{
 "cells": [
  {
   "cell_type": "markdown",
   "id": "desirable-ocean",
   "metadata": {},
   "source": [
    "### Inheritance\n",
    "##### We start off by making a base class called ‘animal’ which does not take any arguments and just prints a statement using the “init” method. Then 2 more methods are created."
   ]
  },
  {
   "cell_type": "code",
   "execution_count": 1,
   "id": "precious-banana",
   "metadata": {},
   "outputs": [],
   "source": [
    "class Animal():\n",
    "    def __init__(self):\n",
    "        print(\"Animal class created\")\n",
    "    def guess_who(self):\n",
    "        print(\"I am an animal\")\n",
    "    def sleep(self):\n",
    "        print(\"I am sleeping\")"
   ]
  },
  {
   "cell_type": "code",
   "execution_count": 2,
   "id": "level-liabilities",
   "metadata": {},
   "outputs": [
    {
     "name": "stdout",
     "output_type": "stream",
     "text": [
      "Animal class created\n"
     ]
    }
   ],
   "source": [
    "my_animal = Animal()"
   ]
  },
  {
   "cell_type": "code",
   "execution_count": 3,
   "id": "capital-malpractice",
   "metadata": {},
   "outputs": [
    {
     "name": "stdout",
     "output_type": "stream",
     "text": [
      "I am sleeping\n"
     ]
    }
   ],
   "source": [
    "my_animal.sleep()"
   ]
  },
  {
   "cell_type": "markdown",
   "id": "afraid-dictionary",
   "metadata": {},
   "source": [
    "##### Now new classes if made can inherit some methods of this base class if needed. Like we need a ‘Cat’ class then some features of the animal class are useful for the dog class. So we can inherit the base class “Animal”. We pass “Animal” as an argument while creating the derived class. Then define a “init” method where we call “Animal__init__” method. So this way we create an instance of Animal class when we create an instance of the “Cat” class. And you will observe that the methods of “Animal” class will be derived by the “Cat” class. You can also overwrite the existing methods. Just use the same name. Adding new methods is also possible."
   ]
  },
  {
   "cell_type": "code",
   "execution_count": 4,
   "id": "single-alberta",
   "metadata": {},
   "outputs": [],
   "source": [
    "class Cat(Animal):\n",
    "    def __init__(self):\n",
    "        Animal.__init__(self)\n",
    "        print(\"Cat class created\")\n",
    "    def guess_who(self):\n",
    "        print(\"I am a cat\")\n",
    "    def meow(self):\n",
    "        print(\"MEOWW!\")"
   ]
  },
  {
   "cell_type": "code",
   "execution_count": 5,
   "id": "lovely-calculation",
   "metadata": {},
   "outputs": [
    {
     "name": "stdout",
     "output_type": "stream",
     "text": [
      "Animal class created\n",
      "Cat class created\n"
     ]
    }
   ],
   "source": [
    "my_cat = Cat()"
   ]
  },
  {
   "cell_type": "code",
   "execution_count": 6,
   "id": "mounted-painting",
   "metadata": {},
   "outputs": [
    {
     "name": "stdout",
     "output_type": "stream",
     "text": [
      "I am a cat\n"
     ]
    }
   ],
   "source": [
    "my_cat.guess_who()"
   ]
  },
  {
   "cell_type": "code",
   "execution_count": 7,
   "id": "normal-republican",
   "metadata": {},
   "outputs": [
    {
     "name": "stdout",
     "output_type": "stream",
     "text": [
      "MEOWW!\n"
     ]
    }
   ],
   "source": [
    "my_cat.meow()"
   ]
  },
  {
   "cell_type": "code",
   "execution_count": 8,
   "id": "desirable-savannah",
   "metadata": {},
   "outputs": [
    {
     "name": "stdout",
     "output_type": "stream",
     "text": [
      "I am sleeping\n"
     ]
    }
   ],
   "source": [
    "my_cat.sleep()"
   ]
  },
  {
   "cell_type": "markdown",
   "id": "social-victoria",
   "metadata": {},
   "source": [
    "### Polymorphism\n",
    "\n",
    "##### It refers to the way in which different object classes can share the same method name. We create two classes “Dog” and “Cat” which have the same method “speak”. When we call each object’s speak method, it return a result that is unique to the object."
   ]
  },
  {
   "cell_type": "code",
   "execution_count": 9,
   "id": "dependent-smile",
   "metadata": {},
   "outputs": [],
   "source": [
    "class Doggy():\n",
    "    def __init__(self,name):\n",
    "        self.name = name\n",
    "    def speak(self):\n",
    "        return self.name + \" says WOOF\"\n",
    "class Catty():\n",
    "    def __init__(self,name):\n",
    "        self.name = name\n",
    "    def speak(self):\n",
    "        return self.name + \" says MEOW\""
   ]
  },
  {
   "cell_type": "code",
   "execution_count": 10,
   "id": "pleased-george",
   "metadata": {},
   "outputs": [
    {
     "name": "stdout",
     "output_type": "stream",
     "text": [
      "Buzo says WOOF\n",
      "Tim says MEOW\n"
     ]
    }
   ],
   "source": [
    "my_dog = Doggy(\"Buzo\")\n",
    "my_cat = Catty(\"Tim\")\n",
    "print(my_dog.speak())\n",
    "print(my_cat.speak())"
   ]
  },
  {
   "cell_type": "markdown",
   "id": "internal-interstate",
   "metadata": {},
   "source": [
    "##### So notice that “my_dog” and “my_cat” have the same method name called “speak” but they have different types of class as seen."
   ]
  },
  {
   "cell_type": "code",
   "execution_count": 11,
   "id": "innovative-advantage",
   "metadata": {},
   "outputs": [
    {
     "name": "stdout",
     "output_type": "stream",
     "text": [
      "<class '__main__.Doggy'>\n",
      "<class 'str'>\n",
      "Buzo says WOOF\n",
      "<class '__main__.Catty'>\n",
      "<class 'str'>\n",
      "Tim says MEOW\n"
     ]
    }
   ],
   "source": [
    "for pet in [my_dog, my_cat]:\n",
    "    print(type(pet))\n",
    "    print(type(pet.speak()))\n",
    "    print(pet.speak())"
   ]
  },
  {
   "cell_type": "markdown",
   "id": "running-hearts",
   "metadata": {},
   "source": [
    "### Abstract classes and inheritance\n",
    "\n",
    "##### Abstract classes are never expected to be instantiated. An instance of such a class is never expected to be made. It is designed to only serve as a base class."
   ]
  },
  {
   "cell_type": "code",
   "execution_count": 12,
   "id": "soviet-nowhere",
   "metadata": {},
   "outputs": [],
   "source": [
    "class Animal():\n",
    "    def __init__(self,name):\n",
    "        self.name = name\n",
    "    def speak(self):\n",
    "        raise NotImplementedError(\"Subclass must implement this abtract method\")"
   ]
  },
  {
   "cell_type": "code",
   "execution_count": 13,
   "id": "governmental-korean",
   "metadata": {},
   "outputs": [],
   "source": [
    "my_animal = Animal(\"Tia\")"
   ]
  },
  {
   "cell_type": "code",
   "execution_count": 14,
   "id": "surprised-advance",
   "metadata": {},
   "outputs": [
    {
     "ename": "NotImplementedError",
     "evalue": "Subclass must implement this abtract method",
     "output_type": "error",
     "traceback": [
      "\u001b[0;31m---------------------------------------------------------------------------\u001b[0m",
      "\u001b[0;31mNotImplementedError\u001b[0m                       Traceback (most recent call last)",
      "\u001b[0;32m<ipython-input-14-ed4198de9ea6>\u001b[0m in \u001b[0;36m<module>\u001b[0;34m\u001b[0m\n\u001b[0;32m----> 1\u001b[0;31m \u001b[0mmy_animal\u001b[0m\u001b[0;34m.\u001b[0m\u001b[0mspeak\u001b[0m\u001b[0;34m(\u001b[0m\u001b[0;34m)\u001b[0m\u001b[0;34m\u001b[0m\u001b[0;34m\u001b[0m\u001b[0m\n\u001b[0m",
      "\u001b[0;32m<ipython-input-12-91c0b4a35c68>\u001b[0m in \u001b[0;36mspeak\u001b[0;34m(self)\u001b[0m\n\u001b[1;32m      3\u001b[0m         \u001b[0mself\u001b[0m\u001b[0;34m.\u001b[0m\u001b[0mname\u001b[0m \u001b[0;34m=\u001b[0m \u001b[0mname\u001b[0m\u001b[0;34m\u001b[0m\u001b[0;34m\u001b[0m\u001b[0m\n\u001b[1;32m      4\u001b[0m     \u001b[0;32mdef\u001b[0m \u001b[0mspeak\u001b[0m\u001b[0;34m(\u001b[0m\u001b[0mself\u001b[0m\u001b[0;34m)\u001b[0m\u001b[0;34m:\u001b[0m\u001b[0;34m\u001b[0m\u001b[0;34m\u001b[0m\u001b[0m\n\u001b[0;32m----> 5\u001b[0;31m         \u001b[0;32mraise\u001b[0m \u001b[0mNotImplementedError\u001b[0m\u001b[0;34m(\u001b[0m\u001b[0;34m\"Subclass must implement this abtract method\"\u001b[0m\u001b[0;34m)\u001b[0m\u001b[0;34m\u001b[0m\u001b[0;34m\u001b[0m\u001b[0m\n\u001b[0m",
      "\u001b[0;31mNotImplementedError\u001b[0m: Subclass must implement this abtract method"
     ]
    }
   ],
   "source": [
    "my_animal.speak()"
   ]
  },
  {
   "cell_type": "markdown",
   "id": "accessory-locking",
   "metadata": {},
   "source": [
    "##### So now an error is raised since this class was never supposed to be instantiated. This is an abstract class because in the base class it is not doing anything and expects you to inherit this class and overwrite the method. Infact, we need to create a subclass and implement this method which we will see below. Note that here we do not have to class the “init” method."
   ]
  },
  {
   "cell_type": "code",
   "execution_count": 18,
   "id": "russian-thomas",
   "metadata": {},
   "outputs": [],
   "source": [
    "class Dog(Animal):\n",
    "    def speak(self):\n",
    "        return self.name + \" says Woof!\"\n",
    "class Cat(Animal):\n",
    "    def speak(self):\n",
    "        return self.name + \" says Meow!\""
   ]
  },
  {
   "cell_type": "code",
   "execution_count": 19,
   "id": "eleven-survey",
   "metadata": {},
   "outputs": [
    {
     "name": "stdout",
     "output_type": "stream",
     "text": [
      "Jim says Woof!\n",
      "Tim says Meow!\n"
     ]
    }
   ],
   "source": [
    "jim = Dog(\"Jim\")\n",
    "tim = Cat(\"Tim\")\n",
    "print(jim.speak())\n",
    "print(tim.speak())"
   ]
  },
  {
   "cell_type": "markdown",
   "id": "eight-prediction",
   "metadata": {},
   "source": [
    "##################################"
   ]
  }
 ],
 "metadata": {
  "kernelspec": {
   "display_name": "Python 3",
   "language": "python",
   "name": "python3"
  },
  "language_info": {
   "codemirror_mode": {
    "name": "ipython",
    "version": 3
   },
   "file_extension": ".py",
   "mimetype": "text/x-python",
   "name": "python",
   "nbconvert_exporter": "python",
   "pygments_lexer": "ipython3",
   "version": "3.9.1"
  }
 },
 "nbformat": 4,
 "nbformat_minor": 5
}
